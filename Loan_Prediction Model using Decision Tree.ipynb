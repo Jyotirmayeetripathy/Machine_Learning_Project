{
 "cells": [
  {
   "cell_type": "markdown",
   "id": "3597906a",
   "metadata": {},
   "source": [
    "A Company wants to automate the loan eligibility process based on customer details provided while filling online application form. \n",
    "The details filled by the customer are Gender, Marital Status, Education, Number of Dependents, Income of self and co applicant, Required Loan Amount, Required Loan Term, \n",
    "\n",
    "Credit History and others. The requirements are as follows:\n",
    "\n",
    "1.)Check eligibility of the Customer given the inputs described above.(Classification)\n",
    "\n",
    "2.)If customer is not eligible for the input required amount and duration:\n",
    "\n",
    "a. what can be amount for the given duration.(Regression)\n",
    "\n",
    "b. if duration is less than equal to 20 years, is customer eligible for required amount for some longer duration? What is that duration?(Regression)"
   ]
  },
  {
   "cell_type": "markdown",
   "id": "bb2d8b8e",
   "metadata": {},
   "source": [
    "# 1. To find out the Customer elligible for Loan"
   ]
  },
  {
   "cell_type": "markdown",
   "id": "f578e24c",
   "metadata": {},
   "source": [
    "### Read data and Filter warnings"
   ]
  },
  {
   "cell_type": "code",
   "execution_count": 1,
   "id": "6d242daf",
   "metadata": {},
   "outputs": [],
   "source": [
    "from warnings import filterwarnings\n",
    "filterwarnings(\"ignore\")\n",
    "\n",
    "import pandas as pd\n",
    "A = pd.read_csv(\"Desktop/DataSets/Project_Loan/Loan_training_set.csv\")"
   ]
  },
  {
   "cell_type": "markdown",
   "id": "141afe51",
   "metadata": {},
   "source": [
    "### Preview of the dataset and checking features"
   ]
  },
  {
   "cell_type": "code",
   "execution_count": 2,
   "id": "469b5d83",
   "metadata": {},
   "outputs": [
    {
     "data": {
      "text/html": [
       "<div>\n",
       "<style scoped>\n",
       "    .dataframe tbody tr th:only-of-type {\n",
       "        vertical-align: middle;\n",
       "    }\n",
       "\n",
       "    .dataframe tbody tr th {\n",
       "        vertical-align: top;\n",
       "    }\n",
       "\n",
       "    .dataframe thead th {\n",
       "        text-align: right;\n",
       "    }\n",
       "</style>\n",
       "<table border=\"1\" class=\"dataframe\">\n",
       "  <thead>\n",
       "    <tr style=\"text-align: right;\">\n",
       "      <th></th>\n",
       "      <th>Loan_ID</th>\n",
       "      <th>Gender</th>\n",
       "      <th>Married</th>\n",
       "      <th>Dependents</th>\n",
       "      <th>Education</th>\n",
       "      <th>Self_Employed</th>\n",
       "      <th>ApplicantIncome</th>\n",
       "      <th>CoapplicantIncome</th>\n",
       "      <th>LoanAmount</th>\n",
       "      <th>Loan_Amount_Term</th>\n",
       "      <th>Credit_History</th>\n",
       "      <th>Property_Area</th>\n",
       "      <th>Loan_Status</th>\n",
       "    </tr>\n",
       "  </thead>\n",
       "  <tbody>\n",
       "    <tr>\n",
       "      <th>0</th>\n",
       "      <td>LP001002</td>\n",
       "      <td>Male</td>\n",
       "      <td>No</td>\n",
       "      <td>0</td>\n",
       "      <td>Graduate</td>\n",
       "      <td>No</td>\n",
       "      <td>5849.0</td>\n",
       "      <td>0.0</td>\n",
       "      <td>NaN</td>\n",
       "      <td>360.0</td>\n",
       "      <td>1.0</td>\n",
       "      <td>Urban</td>\n",
       "      <td>Y</td>\n",
       "    </tr>\n",
       "    <tr>\n",
       "      <th>1</th>\n",
       "      <td>LP001003</td>\n",
       "      <td>Male</td>\n",
       "      <td>Yes</td>\n",
       "      <td>1</td>\n",
       "      <td>Graduate</td>\n",
       "      <td>No</td>\n",
       "      <td>NaN</td>\n",
       "      <td>1508.0</td>\n",
       "      <td>128.0</td>\n",
       "      <td>360.0</td>\n",
       "      <td>1.0</td>\n",
       "      <td>Rural</td>\n",
       "      <td>N</td>\n",
       "    </tr>\n",
       "    <tr>\n",
       "      <th>2</th>\n",
       "      <td>LP001005</td>\n",
       "      <td>Male</td>\n",
       "      <td>Yes</td>\n",
       "      <td>0</td>\n",
       "      <td>Graduate</td>\n",
       "      <td>Yes</td>\n",
       "      <td>3000.0</td>\n",
       "      <td>0.0</td>\n",
       "      <td>66.0</td>\n",
       "      <td>360.0</td>\n",
       "      <td>1.0</td>\n",
       "      <td>Urban</td>\n",
       "      <td>Y</td>\n",
       "    </tr>\n",
       "  </tbody>\n",
       "</table>\n",
       "</div>"
      ],
      "text/plain": [
       "    Loan_ID Gender Married Dependents Education Self_Employed  \\\n",
       "0  LP001002   Male      No          0  Graduate            No   \n",
       "1  LP001003   Male     Yes          1  Graduate            No   \n",
       "2  LP001005   Male     Yes          0  Graduate           Yes   \n",
       "\n",
       "   ApplicantIncome  CoapplicantIncome  LoanAmount  Loan_Amount_Term  \\\n",
       "0           5849.0                0.0         NaN             360.0   \n",
       "1              NaN             1508.0       128.0             360.0   \n",
       "2           3000.0                0.0        66.0             360.0   \n",
       "\n",
       "   Credit_History Property_Area Loan_Status  \n",
       "0             1.0         Urban           Y  \n",
       "1             1.0         Rural           N  \n",
       "2             1.0         Urban           Y  "
      ]
     },
     "execution_count": 2,
     "metadata": {},
     "output_type": "execute_result"
    }
   ],
   "source": [
    "A.head(3)"
   ]
  },
  {
   "cell_type": "code",
   "execution_count": 3,
   "id": "f7d9fbe9",
   "metadata": {},
   "outputs": [
    {
     "data": {
      "text/plain": [
       "(614, 13)"
      ]
     },
     "execution_count": 3,
     "metadata": {},
     "output_type": "execute_result"
    }
   ],
   "source": [
    "A.shape"
   ]
  },
  {
   "cell_type": "code",
   "execution_count": 4,
   "id": "b17a9d13",
   "metadata": {},
   "outputs": [
    {
     "name": "stdout",
     "output_type": "stream",
     "text": [
      "<class 'pandas.core.frame.DataFrame'>\n",
      "RangeIndex: 614 entries, 0 to 613\n",
      "Data columns (total 13 columns):\n",
      " #   Column             Non-Null Count  Dtype  \n",
      "---  ------             --------------  -----  \n",
      " 0   Loan_ID            614 non-null    object \n",
      " 1   Gender             599 non-null    object \n",
      " 2   Married            611 non-null    object \n",
      " 3   Dependents         599 non-null    object \n",
      " 4   Education          613 non-null    object \n",
      " 5   Self_Employed      582 non-null    object \n",
      " 6   ApplicantIncome    612 non-null    float64\n",
      " 7   CoapplicantIncome  613 non-null    float64\n",
      " 8   LoanAmount         592 non-null    float64\n",
      " 9   Loan_Amount_Term   600 non-null    float64\n",
      " 10  Credit_History     564 non-null    float64\n",
      " 11  Property_Area      614 non-null    object \n",
      " 12  Loan_Status        614 non-null    object \n",
      "dtypes: float64(5), object(8)\n",
      "memory usage: 62.5+ KB\n"
     ]
    }
   ],
   "source": [
    "A.info()"
   ]
  },
  {
   "cell_type": "code",
   "execution_count": 5,
   "id": "f2f72d58",
   "metadata": {},
   "outputs": [
    {
     "data": {
      "text/plain": [
       "Index(['Loan_ID', 'Gender', 'Married', 'Dependents', 'Education',\n",
       "       'Self_Employed', 'ApplicantIncome', 'CoapplicantIncome', 'LoanAmount',\n",
       "       'Loan_Amount_Term', 'Credit_History', 'Property_Area', 'Loan_Status'],\n",
       "      dtype='object')"
      ]
     },
     "execution_count": 5,
     "metadata": {},
     "output_type": "execute_result"
    }
   ],
   "source": [
    "A.columns"
   ]
  },
  {
   "cell_type": "markdown",
   "id": "f7537f4b",
   "metadata": {},
   "source": [
    "### Missing Data Treatment"
   ]
  },
  {
   "cell_type": "code",
   "execution_count": 6,
   "id": "55f3bfb0",
   "metadata": {},
   "outputs": [
    {
     "data": {
      "text/plain": [
       "Loan_ID               0\n",
       "Gender               15\n",
       "Married               3\n",
       "Dependents           15\n",
       "Education             1\n",
       "Self_Employed        32\n",
       "ApplicantIncome       2\n",
       "CoapplicantIncome     1\n",
       "LoanAmount           22\n",
       "Loan_Amount_Term     14\n",
       "Credit_History       50\n",
       "Property_Area         0\n",
       "Loan_Status           0\n",
       "dtype: int64"
      ]
     },
     "execution_count": 6,
     "metadata": {},
     "output_type": "execute_result"
    }
   ],
   "source": [
    "A.isna().sum()"
   ]
  },
  {
   "cell_type": "code",
   "execution_count": 7,
   "id": "cff074d9",
   "metadata": {},
   "outputs": [],
   "source": [
    "for i in A.columns:\n",
    "    if A[i].dtypes == \"object\":\n",
    "        x = A[i].mode()[0]\n",
    "        A[i] = A[i].fillna(x)\n",
    "    else:\n",
    "        x = A[i].mean()\n",
    "        A[i] = A[i].fillna(x)"
   ]
  },
  {
   "cell_type": "code",
   "execution_count": 8,
   "id": "8484b62a",
   "metadata": {},
   "outputs": [
    {
     "data": {
      "text/plain": [
       "Loan_ID              0\n",
       "Gender               0\n",
       "Married              0\n",
       "Dependents           0\n",
       "Education            0\n",
       "Self_Employed        0\n",
       "ApplicantIncome      0\n",
       "CoapplicantIncome    0\n",
       "LoanAmount           0\n",
       "Loan_Amount_Term     0\n",
       "Credit_History       0\n",
       "Property_Area        0\n",
       "Loan_Status          0\n",
       "dtype: int64"
      ]
     },
     "execution_count": 8,
     "metadata": {},
     "output_type": "execute_result"
    }
   ],
   "source": [
    "A.isna().sum()"
   ]
  },
  {
   "cell_type": "markdown",
   "id": "41e18839",
   "metadata": {},
   "source": [
    "### Define Y and Remove columns from A with less statistical importance"
   ]
  },
  {
   "cell_type": "code",
   "execution_count": 9,
   "id": "fad92362",
   "metadata": {},
   "outputs": [],
   "source": [
    "Y = A[[\"Loan_Status\"]]\n",
    "X = A.drop(labels=[\"Loan_ID\",\"Loan_Status\"],axis=1)"
   ]
  },
  {
   "cell_type": "markdown",
   "id": "c2ac15d3",
   "metadata": {},
   "source": [
    "### EDA(Removing Skew/Outliers and finding important features for Model)"
   ]
  },
  {
   "cell_type": "markdown",
   "id": "31a918c2",
   "metadata": {},
   "source": [
    "#### Removing Skew"
   ]
  },
  {
   "cell_type": "code",
   "execution_count": 10,
   "id": "8abef1a3",
   "metadata": {},
   "outputs": [
    {
     "data": {
      "text/plain": [
       "ApplicantIncome      6.538870\n",
       "CoapplicantIncome    7.492000\n",
       "LoanAmount           2.726601\n",
       "Loan_Amount_Term    -2.389680\n",
       "Credit_History      -1.963600\n",
       "dtype: float64"
      ]
     },
     "execution_count": 10,
     "metadata": {},
     "output_type": "execute_result"
    }
   ],
   "source": [
    "X.skew()"
   ]
  },
  {
   "cell_type": "code",
   "execution_count": 11,
   "id": "dec91fb9",
   "metadata": {},
   "outputs": [
    {
     "data": {
      "text/plain": [
       "['ApplicantIncome', 'CoapplicantIncome', 'LoanAmount']"
      ]
     },
     "execution_count": 11,
     "metadata": {},
     "output_type": "execute_result"
    }
   ],
   "source": [
    "P = X.skew()\n",
    "cols_with_skew = list(P[(P>1)].index)\n",
    "cols_with_skew"
   ]
  },
  {
   "cell_type": "code",
   "execution_count": 12,
   "id": "c177ee7e",
   "metadata": {},
   "outputs": [],
   "source": [
    "import numpy as np\n",
    "\n",
    "for j in cols_with_skew:\n",
    "    \n",
    "    W = []\n",
    "    for i in X[j]:\n",
    "        if (i != 0):\n",
    "            W.append(np.log(i))\n",
    "        else:\n",
    "            W.append(i)\n",
    "        \n",
    "    X[j] = W"
   ]
  },
  {
   "cell_type": "code",
   "execution_count": 13,
   "id": "dd774c78",
   "metadata": {},
   "outputs": [
    {
     "data": {
      "text/plain": [
       "ApplicantIncome      0.477562\n",
       "CoapplicantIncome   -0.172920\n",
       "LoanAmount          -0.223227\n",
       "Loan_Amount_Term    -2.389680\n",
       "Credit_History      -1.963600\n",
       "dtype: float64"
      ]
     },
     "execution_count": 13,
     "metadata": {},
     "output_type": "execute_result"
    }
   ],
   "source": [
    "X.skew()"
   ]
  },
  {
   "cell_type": "markdown",
   "id": "0c542061",
   "metadata": {},
   "source": [
    "#### Divide data in con and cat and finding important features"
   ]
  },
  {
   "cell_type": "code",
   "execution_count": 14,
   "id": "6ddd1afb",
   "metadata": {},
   "outputs": [
    {
     "data": {
      "text/plain": [
       "(['Gender',\n",
       "  'Married',\n",
       "  'Dependents',\n",
       "  'Education',\n",
       "  'Self_Employed',\n",
       "  'Property_Area'],\n",
       " ['ApplicantIncome',\n",
       "  'CoapplicantIncome',\n",
       "  'LoanAmount',\n",
       "  'Loan_Amount_Term',\n",
       "  'Credit_History'])"
      ]
     },
     "execution_count": 14,
     "metadata": {},
     "output_type": "execute_result"
    }
   ],
   "source": [
    "cat = []\n",
    "con = []\n",
    "\n",
    "for i in X.columns:\n",
    "    if X[i].dtypes == \"object\":\n",
    "        cat.append(i)\n",
    "    else:\n",
    "        con.append(i)\n",
    "cat, con"
   ]
  },
  {
   "cell_type": "markdown",
   "id": "402cc6f4",
   "metadata": {},
   "source": [
    "Ycat,Xcon --> ANOVA\n",
    "\n",
    "Ycat,Xcat --> chisquare"
   ]
  },
  {
   "cell_type": "code",
   "execution_count": 15,
   "id": "08d6600c",
   "metadata": {},
   "outputs": [
    {
     "name": "stdout",
     "output_type": "stream",
     "text": [
      "--------------------\n",
      "Loan_Status vs Gender\n",
      "0.7391461310869638\n",
      "--------------------\n",
      "Loan_Status vs Married\n",
      "0.029608580862582116\n",
      "--------------------\n",
      "Loan_Status vs Dependents\n",
      "0.3688663081366005\n",
      "--------------------\n",
      "Loan_Status vs Education\n",
      "0.04309962129357355\n",
      "--------------------\n",
      "Loan_Status vs Self_Employed\n",
      "1.0\n",
      "--------------------\n",
      "Loan_Status vs Property_Area\n",
      "0.0021360187811644915\n",
      "====================================================\n",
      "====================================================\n",
      "--------------------\n",
      "Loan_Status vs ApplicantIncome\n",
      "0.9025\n",
      "--------------------\n",
      "Loan_Status vs CoapplicantIncome\n",
      "0.1424\n",
      "--------------------\n",
      "Loan_Status vs LoanAmount\n",
      "0.3677\n",
      "--------------------\n",
      "Loan_Status vs Loan_Amount_Term\n",
      "0.604\n",
      "--------------------\n",
      "Loan_Status vs Credit_History\n",
      "0.0\n"
     ]
    }
   ],
   "source": [
    "imp_cat = []\n",
    "imp_con = []\n",
    "\n",
    "\n",
    "#Dependancy between a Categorical and Continueous feature can be defined using ANOVA Analysis\n",
    "\n",
    "def chisq(df,cat1,cat2):\n",
    "    import pandas as pd\n",
    "    from scipy.stats import chi2_contingency\n",
    "    ct = pd.crosstab(df[cat1],df[cat2])\n",
    "    a,b,c,d = chi2_contingency(ct)\n",
    "    return b\n",
    "\n",
    "for i in cat:\n",
    "    print(\"--------------------\")\n",
    "    print(\"Loan_Status vs\",i)\n",
    "    w = chisq(A,\"Loan_Status\",i)\n",
    "    print(w)\n",
    "    if(w < 0.05):\n",
    "        imp_cat.append(i)\n",
    "        \n",
    "print('''====================================================\n",
    "====================================================''')\n",
    "\n",
    "#Dependancy between a Categorical and Categorical feature can be defined using Chisq test\n",
    "\n",
    "\n",
    "def ANOVA(df,cat,con):\n",
    "    from statsmodels.formula.api import ols\n",
    "    relation = con + \" ~ \" + cat\n",
    "    model = ols(relation,df).fit()\n",
    "    from statsmodels.stats.anova import anova_lm\n",
    "    anova_results = anova_lm(model)\n",
    "    return round(anova_results.iloc[0,4],4)\n",
    "\n",
    "for i in con:\n",
    "    print(\"--------------------\")\n",
    "    print(\"Loan_Status vs\",i)\n",
    "    w = ANOVA(A,\"Loan_Status\",i)\n",
    "    print(w)\n",
    "    if(w < 0.05):\n",
    "        imp_con.append(i)\n",
    "    \n",
    "                                            "
   ]
  },
  {
   "cell_type": "code",
   "execution_count": null,
   "id": "6b63d915",
   "metadata": {},
   "outputs": [],
   "source": []
  },
  {
   "cell_type": "code",
   "execution_count": 16,
   "id": "ba9df31e",
   "metadata": {},
   "outputs": [
    {
     "data": {
      "text/plain": [
       "['Married', 'Education', 'Property_Area']"
      ]
     },
     "execution_count": 16,
     "metadata": {},
     "output_type": "execute_result"
    }
   ],
   "source": [
    "imp_cat"
   ]
  },
  {
   "cell_type": "code",
   "execution_count": 17,
   "id": "14e514ad",
   "metadata": {},
   "outputs": [
    {
     "data": {
      "text/plain": [
       "['Credit_History']"
      ]
     },
     "execution_count": 17,
     "metadata": {},
     "output_type": "execute_result"
    }
   ],
   "source": [
    "imp_con"
   ]
  },
  {
   "cell_type": "markdown",
   "id": "a00aa348",
   "metadata": {},
   "source": [
    "### Preprocessing(Standardize Continueous cols and OneHotEncoding on Categorical cols)"
   ]
  },
  {
   "cell_type": "code",
   "execution_count": 18,
   "id": "71816609",
   "metadata": {},
   "outputs": [],
   "source": [
    "from sklearn.preprocessing import StandardScaler\n",
    "ss = StandardScaler()\n",
    "X1 = pd.DataFrame(ss.fit_transform(X[imp_con]),columns=imp_con)"
   ]
  },
  {
   "cell_type": "code",
   "execution_count": 19,
   "id": "2192e222",
   "metadata": {},
   "outputs": [],
   "source": [
    "X2 = pd.get_dummies(X[imp_cat])"
   ]
  },
  {
   "cell_type": "code",
   "execution_count": 20,
   "id": "ddf88b86",
   "metadata": {},
   "outputs": [
    {
     "data": {
      "text/html": [
       "<div>\n",
       "<style scoped>\n",
       "    .dataframe tbody tr th:only-of-type {\n",
       "        vertical-align: middle;\n",
       "    }\n",
       "\n",
       "    .dataframe tbody tr th {\n",
       "        vertical-align: top;\n",
       "    }\n",
       "\n",
       "    .dataframe thead th {\n",
       "        text-align: right;\n",
       "    }\n",
       "</style>\n",
       "<table border=\"1\" class=\"dataframe\">\n",
       "  <thead>\n",
       "    <tr style=\"text-align: right;\">\n",
       "      <th></th>\n",
       "      <th>Credit_History</th>\n",
       "      <th>Married_No</th>\n",
       "      <th>Married_Yes</th>\n",
       "      <th>Education_Graduate</th>\n",
       "      <th>Education_Not Graduate</th>\n",
       "      <th>Property_Area_Rural</th>\n",
       "      <th>Property_Area_Semiurban</th>\n",
       "      <th>Property_Area_Urban</th>\n",
       "    </tr>\n",
       "  </thead>\n",
       "  <tbody>\n",
       "    <tr>\n",
       "      <th>0</th>\n",
       "      <td>0.45164</td>\n",
       "      <td>1</td>\n",
       "      <td>0</td>\n",
       "      <td>1</td>\n",
       "      <td>0</td>\n",
       "      <td>0</td>\n",
       "      <td>0</td>\n",
       "      <td>1</td>\n",
       "    </tr>\n",
       "    <tr>\n",
       "      <th>1</th>\n",
       "      <td>0.45164</td>\n",
       "      <td>0</td>\n",
       "      <td>1</td>\n",
       "      <td>1</td>\n",
       "      <td>0</td>\n",
       "      <td>1</td>\n",
       "      <td>0</td>\n",
       "      <td>0</td>\n",
       "    </tr>\n",
       "    <tr>\n",
       "      <th>2</th>\n",
       "      <td>0.45164</td>\n",
       "      <td>0</td>\n",
       "      <td>1</td>\n",
       "      <td>1</td>\n",
       "      <td>0</td>\n",
       "      <td>0</td>\n",
       "      <td>0</td>\n",
       "      <td>1</td>\n",
       "    </tr>\n",
       "    <tr>\n",
       "      <th>3</th>\n",
       "      <td>0.45164</td>\n",
       "      <td>0</td>\n",
       "      <td>1</td>\n",
       "      <td>0</td>\n",
       "      <td>1</td>\n",
       "      <td>0</td>\n",
       "      <td>0</td>\n",
       "      <td>1</td>\n",
       "    </tr>\n",
       "    <tr>\n",
       "      <th>4</th>\n",
       "      <td>0.45164</td>\n",
       "      <td>1</td>\n",
       "      <td>0</td>\n",
       "      <td>1</td>\n",
       "      <td>0</td>\n",
       "      <td>0</td>\n",
       "      <td>0</td>\n",
       "      <td>1</td>\n",
       "    </tr>\n",
       "  </tbody>\n",
       "</table>\n",
       "</div>"
      ],
      "text/plain": [
       "   Credit_History  Married_No  Married_Yes  Education_Graduate  \\\n",
       "0         0.45164           1            0                   1   \n",
       "1         0.45164           0            1                   1   \n",
       "2         0.45164           0            1                   1   \n",
       "3         0.45164           0            1                   0   \n",
       "4         0.45164           1            0                   1   \n",
       "\n",
       "   Education_Not Graduate  Property_Area_Rural  Property_Area_Semiurban  \\\n",
       "0                       0                    0                        0   \n",
       "1                       0                    1                        0   \n",
       "2                       0                    0                        0   \n",
       "3                       1                    0                        0   \n",
       "4                       0                    0                        0   \n",
       "\n",
       "   Property_Area_Urban  \n",
       "0                    1  \n",
       "1                    0  \n",
       "2                    1  \n",
       "3                    1  \n",
       "4                    1  "
      ]
     },
     "execution_count": 20,
     "metadata": {},
     "output_type": "execute_result"
    }
   ],
   "source": [
    "Xnew = X1.join(X2)\n",
    "Xnew.head()"
   ]
  },
  {
   "cell_type": "code",
   "execution_count": 21,
   "id": "e0200776",
   "metadata": {},
   "outputs": [
    {
     "data": {
      "text/plain": [
       "(614, 8)"
      ]
     },
     "execution_count": 21,
     "metadata": {},
     "output_type": "execute_result"
    }
   ],
   "source": [
    "Xnew.shape"
   ]
  },
  {
   "cell_type": "markdown",
   "id": "0b20f271",
   "metadata": {},
   "source": [
    "### Splitting Data into Training and Testing test to prepare Model"
   ]
  },
  {
   "cell_type": "code",
   "execution_count": 22,
   "id": "eb3200b5",
   "metadata": {},
   "outputs": [
    {
     "name": "stdout",
     "output_type": "stream",
     "text": [
      "Training Accuracy is  0.8065173116089613\n",
      "Testing Accuracy is  0.8211382113821138\n"
     ]
    }
   ],
   "source": [
    "from sklearn.model_selection import train_test_split\n",
    "xtrain,xtest,ytrain,ytest=train_test_split(Xnew,Y,test_size=0.2,random_state=21)\n",
    "\n",
    "from sklearn.ensemble import RandomForestClassifier\n",
    "dtc = RandomForestClassifier(criterion=\"entropy\",random_state=21,max_depth=3)\n",
    "model = dtc.fit(xtrain,ytrain)\n",
    "pred_tr = model.predict(xtrain)\n",
    "pred_ts = model.predict(xtest)\n",
    "from sklearn.metrics import accuracy_score\n",
    "tr_acc = accuracy_score(ytrain,pred_tr)\n",
    "ts_acc = accuracy_score(ytest,pred_ts)\n",
    "print(\"Training Accuracy is \",tr_acc)\n",
    "print(\"Testing Accuracy is \",ts_acc)"
   ]
  },
  {
   "cell_type": "markdown",
   "id": "d7276761",
   "metadata": {},
   "source": [
    "### Finding best value for Hyperparameters"
   ]
  },
  {
   "cell_type": "code",
   "execution_count": 23,
   "id": "b40b0eb5",
   "metadata": {},
   "outputs": [],
   "source": [
    "tuning_grid = {\"max_depth\":range(2,5,1),\"criterion\":[\"gini\",\"entropy\"],\"n_estimators\":range(20,30,1)}"
   ]
  },
  {
   "cell_type": "code",
   "execution_count": 24,
   "id": "93826340",
   "metadata": {},
   "outputs": [],
   "source": [
    "from sklearn.model_selection import GridSearchCV\n",
    "rfc = RandomForestClassifier(random_state=21)\n",
    "cv = GridSearchCV(rfc,tuning_grid,scoring=\"accuracy\",cv=4)\n",
    "\n",
    "cvmodel = cv.fit(xtrain,ytrain)"
   ]
  },
  {
   "cell_type": "code",
   "execution_count": 25,
   "id": "0173e5c5",
   "metadata": {},
   "outputs": [
    {
     "data": {
      "text/plain": [
       "{'criterion': 'gini', 'max_depth': 4, 'n_estimators': 20}"
      ]
     },
     "execution_count": 25,
     "metadata": {},
     "output_type": "execute_result"
    }
   ],
   "source": [
    "cvmodel.best_params_"
   ]
  },
  {
   "cell_type": "code",
   "execution_count": 26,
   "id": "8bd75b95",
   "metadata": {},
   "outputs": [
    {
     "name": "stdout",
     "output_type": "stream",
     "text": [
      "Training Accuracy is  0.8085539714867617\n",
      "Testing Accuracy is  0.8048780487804879\n"
     ]
    }
   ],
   "source": [
    "rfc = RandomForestClassifier(criterion='gini', max_depth=4, n_estimators= 20,random_state=21)\n",
    "model = rfc.fit(xtrain,ytrain)\n",
    "pred_tr = model.predict(xtrain)\n",
    "pred_ts = model.predict(xtest)\n",
    "from sklearn.metrics import accuracy_score\n",
    "tr_acc = accuracy_score(ytrain,pred_tr)\n",
    "ts_acc = accuracy_score(ytest,pred_ts)\n",
    "print(\"Training Accuracy is \",tr_acc)\n",
    "print(\"Testing Accuracy is \",ts_acc)"
   ]
  },
  {
   "cell_type": "code",
   "execution_count": null,
   "id": "dd58be79",
   "metadata": {},
   "outputs": [],
   "source": []
  },
  {
   "cell_type": "markdown",
   "id": "eaaaf8d2",
   "metadata": {},
   "source": [
    "# Getting Data ready for predictions"
   ]
  },
  {
   "cell_type": "code",
   "execution_count": 27,
   "id": "b626b5fc",
   "metadata": {},
   "outputs": [],
   "source": [
    "B = pd.read_csv(\"Desktop/DataSets/Project_Loan/Loan_testing_set.csv\")"
   ]
  },
  {
   "cell_type": "code",
   "execution_count": 28,
   "id": "6192dc39",
   "metadata": {},
   "outputs": [],
   "source": [
    "B1 = B[X.columns].head()"
   ]
  },
  {
   "cell_type": "markdown",
   "id": "a38ab81c",
   "metadata": {},
   "source": [
    "### Missing Data Treatment and Preprocessing"
   ]
  },
  {
   "cell_type": "code",
   "execution_count": 29,
   "id": "57c13c70",
   "metadata": {},
   "outputs": [
    {
     "data": {
      "text/plain": [
       "Loan_ID               0\n",
       "Gender               11\n",
       "Married               0\n",
       "Dependents           10\n",
       "Education             0\n",
       "Self_Employed        23\n",
       "ApplicantIncome       0\n",
       "CoapplicantIncome     0\n",
       "LoanAmount            5\n",
       "Loan_Amount_Term      6\n",
       "Credit_History       29\n",
       "Property_Area         0\n",
       "dtype: int64"
      ]
     },
     "execution_count": 29,
     "metadata": {},
     "output_type": "execute_result"
    }
   ],
   "source": [
    "B.isna().sum()"
   ]
  },
  {
   "cell_type": "code",
   "execution_count": 30,
   "id": "36787894",
   "metadata": {},
   "outputs": [],
   "source": [
    "for i in B.columns:\n",
    "    if B[i].dtypes == \"object\":\n",
    "        x = B[i].mode()[0]\n",
    "        B[i] = B[i].fillna(x)\n",
    "    else:\n",
    "        x = B[i].mean()\n",
    "        B[i] = B[i].fillna(x)"
   ]
  },
  {
   "cell_type": "code",
   "execution_count": 31,
   "id": "ab10f5ae",
   "metadata": {},
   "outputs": [
    {
     "data": {
      "text/plain": [
       "Loan_ID              0\n",
       "Gender               0\n",
       "Married              0\n",
       "Dependents           0\n",
       "Education            0\n",
       "Self_Employed        0\n",
       "ApplicantIncome      0\n",
       "CoapplicantIncome    0\n",
       "LoanAmount           0\n",
       "Loan_Amount_Term     0\n",
       "Credit_History       0\n",
       "Property_Area        0\n",
       "dtype: int64"
      ]
     },
     "execution_count": 31,
     "metadata": {},
     "output_type": "execute_result"
    }
   ],
   "source": [
    "B.isna().sum()"
   ]
  },
  {
   "cell_type": "code",
   "execution_count": 32,
   "id": "6e5f20fd",
   "metadata": {},
   "outputs": [],
   "source": [
    "cat = []\n",
    "con = []\n",
    "for i in B.columns:\n",
    "    if(B[i].dtypes == \"object\"):\n",
    "        cat.append(i)\n",
    "    else:\n",
    "        con.append(i)\n",
    "        \n",
    "from sklearn.preprocessing import StandardScaler\n",
    "ss = StandardScaler()\n",
    "B1 = pd.DataFrame(ss.fit_transform(B[con]),columns=con)\n",
    "\n",
    "B2 = pd.get_dummies(B[cat])\n",
    "Bnew = B1.join(B2)"
   ]
  },
  {
   "cell_type": "code",
   "execution_count": 33,
   "id": "c656ba5c",
   "metadata": {},
   "outputs": [],
   "source": [
    "ready_for_pred = Bnew[Xnew.columns]"
   ]
  },
  {
   "cell_type": "code",
   "execution_count": 34,
   "id": "c1fdb567",
   "metadata": {},
   "outputs": [],
   "source": [
    "predicted_final = model.predict(ready_for_pred)"
   ]
  },
  {
   "cell_type": "code",
   "execution_count": 35,
   "id": "b5b6c505",
   "metadata": {},
   "outputs": [],
   "source": [
    "E = pd.DataFrame([B.Loan_ID,predicted_final]).T\n",
    "E.columns = [\"Loan_ID\",\"Loan_Status\"]"
   ]
  },
  {
   "cell_type": "code",
   "execution_count": 36,
   "id": "7974458d",
   "metadata": {},
   "outputs": [],
   "source": [
    "E.to_csv(\"submission.csv\")"
   ]
  },
  {
   "cell_type": "code",
   "execution_count": 37,
   "id": "4877512c",
   "metadata": {},
   "outputs": [
    {
     "data": {
      "text/html": [
       "<div>\n",
       "<style scoped>\n",
       "    .dataframe tbody tr th:only-of-type {\n",
       "        vertical-align: middle;\n",
       "    }\n",
       "\n",
       "    .dataframe tbody tr th {\n",
       "        vertical-align: top;\n",
       "    }\n",
       "\n",
       "    .dataframe thead th {\n",
       "        text-align: right;\n",
       "    }\n",
       "</style>\n",
       "<table border=\"1\" class=\"dataframe\">\n",
       "  <thead>\n",
       "    <tr style=\"text-align: right;\">\n",
       "      <th></th>\n",
       "      <th>Loan_ID</th>\n",
       "      <th>Loan_Status</th>\n",
       "    </tr>\n",
       "  </thead>\n",
       "  <tbody>\n",
       "    <tr>\n",
       "      <th>0</th>\n",
       "      <td>LP001015</td>\n",
       "      <td>Y</td>\n",
       "    </tr>\n",
       "    <tr>\n",
       "      <th>1</th>\n",
       "      <td>LP001022</td>\n",
       "      <td>Y</td>\n",
       "    </tr>\n",
       "    <tr>\n",
       "      <th>2</th>\n",
       "      <td>LP001031</td>\n",
       "      <td>Y</td>\n",
       "    </tr>\n",
       "    <tr>\n",
       "      <th>3</th>\n",
       "      <td>LP001035</td>\n",
       "      <td>Y</td>\n",
       "    </tr>\n",
       "    <tr>\n",
       "      <th>4</th>\n",
       "      <td>LP001051</td>\n",
       "      <td>N</td>\n",
       "    </tr>\n",
       "    <tr>\n",
       "      <th>...</th>\n",
       "      <td>...</td>\n",
       "      <td>...</td>\n",
       "    </tr>\n",
       "    <tr>\n",
       "      <th>362</th>\n",
       "      <td>LP002971</td>\n",
       "      <td>Y</td>\n",
       "    </tr>\n",
       "    <tr>\n",
       "      <th>363</th>\n",
       "      <td>LP002975</td>\n",
       "      <td>Y</td>\n",
       "    </tr>\n",
       "    <tr>\n",
       "      <th>364</th>\n",
       "      <td>LP002980</td>\n",
       "      <td>Y</td>\n",
       "    </tr>\n",
       "    <tr>\n",
       "      <th>365</th>\n",
       "      <td>LP002986</td>\n",
       "      <td>Y</td>\n",
       "    </tr>\n",
       "    <tr>\n",
       "      <th>366</th>\n",
       "      <td>LP002989</td>\n",
       "      <td>Y</td>\n",
       "    </tr>\n",
       "  </tbody>\n",
       "</table>\n",
       "<p>367 rows × 2 columns</p>\n",
       "</div>"
      ],
      "text/plain": [
       "      Loan_ID Loan_Status\n",
       "0    LP001015           Y\n",
       "1    LP001022           Y\n",
       "2    LP001031           Y\n",
       "3    LP001035           Y\n",
       "4    LP001051           N\n",
       "..        ...         ...\n",
       "362  LP002971           Y\n",
       "363  LP002975           Y\n",
       "364  LP002980           Y\n",
       "365  LP002986           Y\n",
       "366  LP002989           Y\n",
       "\n",
       "[367 rows x 2 columns]"
      ]
     },
     "execution_count": 37,
     "metadata": {},
     "output_type": "execute_result"
    }
   ],
   "source": [
    "E"
   ]
  },
  {
   "cell_type": "code",
   "execution_count": null,
   "id": "d2db9b7a",
   "metadata": {},
   "outputs": [],
   "source": []
  },
  {
   "cell_type": "code",
   "execution_count": null,
   "id": "379646ff",
   "metadata": {},
   "outputs": [],
   "source": []
  },
  {
   "cell_type": "code",
   "execution_count": null,
   "id": "12a15bcb",
   "metadata": {},
   "outputs": [],
   "source": []
  },
  {
   "cell_type": "code",
   "execution_count": null,
   "id": "ddd9ddd6",
   "metadata": {},
   "outputs": [],
   "source": []
  },
  {
   "cell_type": "markdown",
   "id": "c9865980",
   "metadata": {},
   "source": [
    "# 2. If customer is not eligible for the input required amount and duration:\n",
    "    \n",
    "    a. what can be amount for the given duration.(Regression)"
   ]
  },
  {
   "cell_type": "code",
   "execution_count": 38,
   "id": "62d34717",
   "metadata": {},
   "outputs": [],
   "source": [
    "B[\"Loan_Status\"] = predicted_final"
   ]
  },
  {
   "cell_type": "code",
   "execution_count": 39,
   "id": "23da38d5",
   "metadata": {},
   "outputs": [
    {
     "data": {
      "text/plain": [
       "Index(['Loan_ID', 'Gender', 'Married', 'Dependents', 'Education',\n",
       "       'Self_Employed', 'ApplicantIncome', 'CoapplicantIncome', 'LoanAmount',\n",
       "       'Loan_Amount_Term', 'Credit_History', 'Property_Area', 'Loan_Status'],\n",
       "      dtype='object')"
      ]
     },
     "execution_count": 39,
     "metadata": {},
     "output_type": "execute_result"
    }
   ],
   "source": [
    "B.columns"
   ]
  },
  {
   "cell_type": "markdown",
   "id": "4f46caab",
   "metadata": {},
   "source": [
    "#### Find out people for whom loan was rejected(testing set)"
   ]
  },
  {
   "cell_type": "code",
   "execution_count": 40,
   "id": "64ab01e8",
   "metadata": {},
   "outputs": [
    {
     "data": {
      "text/html": [
       "<div>\n",
       "<style scoped>\n",
       "    .dataframe tbody tr th:only-of-type {\n",
       "        vertical-align: middle;\n",
       "    }\n",
       "\n",
       "    .dataframe tbody tr th {\n",
       "        vertical-align: top;\n",
       "    }\n",
       "\n",
       "    .dataframe thead th {\n",
       "        text-align: right;\n",
       "    }\n",
       "</style>\n",
       "<table border=\"1\" class=\"dataframe\">\n",
       "  <thead>\n",
       "    <tr style=\"text-align: right;\">\n",
       "      <th></th>\n",
       "      <th>Loan_ID</th>\n",
       "      <th>Gender</th>\n",
       "      <th>Married</th>\n",
       "      <th>Dependents</th>\n",
       "      <th>Education</th>\n",
       "      <th>Self_Employed</th>\n",
       "      <th>ApplicantIncome</th>\n",
       "      <th>CoapplicantIncome</th>\n",
       "      <th>LoanAmount</th>\n",
       "      <th>Loan_Amount_Term</th>\n",
       "      <th>Credit_History</th>\n",
       "      <th>Property_Area</th>\n",
       "      <th>Loan_Status</th>\n",
       "    </tr>\n",
       "  </thead>\n",
       "  <tbody>\n",
       "    <tr>\n",
       "      <th>4</th>\n",
       "      <td>LP001051</td>\n",
       "      <td>Male</td>\n",
       "      <td>No</td>\n",
       "      <td>0</td>\n",
       "      <td>Not Graduate</td>\n",
       "      <td>No</td>\n",
       "      <td>3276</td>\n",
       "      <td>0</td>\n",
       "      <td>78.0</td>\n",
       "      <td>360.0</td>\n",
       "      <td>1.0</td>\n",
       "      <td>Urban</td>\n",
       "      <td>N</td>\n",
       "    </tr>\n",
       "    <tr>\n",
       "      <th>7</th>\n",
       "      <td>LP001056</td>\n",
       "      <td>Male</td>\n",
       "      <td>Yes</td>\n",
       "      <td>2</td>\n",
       "      <td>Not Graduate</td>\n",
       "      <td>No</td>\n",
       "      <td>3881</td>\n",
       "      <td>0</td>\n",
       "      <td>147.0</td>\n",
       "      <td>360.0</td>\n",
       "      <td>0.0</td>\n",
       "      <td>Rural</td>\n",
       "      <td>N</td>\n",
       "    </tr>\n",
       "  </tbody>\n",
       "</table>\n",
       "</div>"
      ],
      "text/plain": [
       "    Loan_ID Gender Married Dependents     Education Self_Employed  \\\n",
       "4  LP001051   Male      No          0  Not Graduate            No   \n",
       "7  LP001056   Male     Yes          2  Not Graduate            No   \n",
       "\n",
       "   ApplicantIncome  CoapplicantIncome  LoanAmount  Loan_Amount_Term  \\\n",
       "4             3276                  0        78.0             360.0   \n",
       "7             3881                  0       147.0             360.0   \n",
       "\n",
       "   Credit_History Property_Area Loan_Status  \n",
       "4             1.0         Urban           N  \n",
       "7             0.0         Rural           N  "
      ]
     },
     "execution_count": 40,
     "metadata": {},
     "output_type": "execute_result"
    }
   ],
   "source": [
    "Xtest = B[B.Loan_Status == \"N\"]\n",
    "Xtest.head(2)"
   ]
  },
  {
   "cell_type": "code",
   "execution_count": 44,
   "id": "051d2c09",
   "metadata": {},
   "outputs": [],
   "source": [
    "Xtest_1 = Xtest.drop(labels=['Loan_ID','LoanAmount','Loan_Status'],axis=1)"
   ]
  },
  {
   "cell_type": "code",
   "execution_count": 45,
   "id": "84876595",
   "metadata": {},
   "outputs": [],
   "source": [
    "Xtest_1.index = range(Xtest_1.shape[0])"
   ]
  },
  {
   "cell_type": "markdown",
   "id": "a75e2e99",
   "metadata": {},
   "source": [
    "#### Create training data based on above predictors"
   ]
  },
  {
   "cell_type": "code",
   "execution_count": 46,
   "id": "b05e677f",
   "metadata": {},
   "outputs": [],
   "source": [
    "Q = A[Xtest_1.columns]\n",
    "Q['LS'] = A.Loan_Status"
   ]
  },
  {
   "cell_type": "code",
   "execution_count": 47,
   "id": "145126c4",
   "metadata": {},
   "outputs": [],
   "source": [
    "Q = Q[Q.LS == \"Y\"]\n",
    "Q = Q.drop(labels=[\"LS\"],axis=1)"
   ]
  },
  {
   "cell_type": "code",
   "execution_count": 48,
   "id": "0f284141",
   "metadata": {},
   "outputs": [],
   "source": [
    "R = A[[\"LoanAmount\"]]\n",
    "R = R.iloc[Q.index,:]\n",
    "R.index = range(0,R.shape[0])"
   ]
  },
  {
   "cell_type": "code",
   "execution_count": 49,
   "id": "56b121a6",
   "metadata": {},
   "outputs": [
    {
     "data": {
      "text/plain": [
       "422"
      ]
     },
     "execution_count": 49,
     "metadata": {},
     "output_type": "execute_result"
    }
   ],
   "source": [
    "Q.shape[0]"
   ]
  },
  {
   "cell_type": "code",
   "execution_count": 50,
   "id": "eef885c2",
   "metadata": {},
   "outputs": [],
   "source": [
    "Q.index = range(0,Q.shape[0])"
   ]
  },
  {
   "cell_type": "markdown",
   "id": "61a37e51",
   "metadata": {},
   "source": [
    "#### Preprocessing"
   ]
  },
  {
   "cell_type": "code",
   "execution_count": 51,
   "id": "b7bc1056",
   "metadata": {},
   "outputs": [],
   "source": [
    "def replacer(df):\n",
    "    import pandas as pd\n",
    "    Q = pd.DataFrame(df.isna().sum(),columns=[\"ct\"])\n",
    "    for i in Q[Q.ct > 0].index:\n",
    "        if(df[i].dtypes == \"object\"):\n",
    "            x = df[i].mode()[0]\n",
    "            df[i] = df[i].fillna(x)\n",
    "        else:\n",
    "            x = df[i].mean()\n",
    "            df[i] = df[i].fillna(x)\n",
    "\n",
    "def preprocessing(df):\n",
    "    import pandas as pd\n",
    "    cat = []\n",
    "    con = []\n",
    "    for i in df.columns:\n",
    "        if(df[i].dtypes == \"object\"):\n",
    "            cat.append(i)\n",
    "        else:\n",
    "            con.append(i)\n",
    "    X1 = pd.get_dummies(df[cat])\n",
    "    from sklearn.preprocessing import StandardScaler\n",
    "    ss = StandardScaler()\n",
    "    X2 = pd.DataFrame(ss.fit_transform(df[con]),columns=con)\n",
    "    X3 = X2.join(X1)\n",
    "    return X3"
   ]
  },
  {
   "cell_type": "code",
   "execution_count": 54,
   "id": "ebf81d0e",
   "metadata": {},
   "outputs": [],
   "source": [
    "replacer(Q)\n",
    "replacer(Xtest_1)"
   ]
  },
  {
   "cell_type": "code",
   "execution_count": 55,
   "id": "6eb87b7d",
   "metadata": {},
   "outputs": [],
   "source": [
    "xtrain = preprocessing(Q)\n",
    "xtest_final = preprocessing(Xtest_1)"
   ]
  },
  {
   "cell_type": "code",
   "execution_count": 56,
   "id": "8c7b747e",
   "metadata": {},
   "outputs": [],
   "source": [
    "ytrain = R.LoanAmount"
   ]
  },
  {
   "cell_type": "code",
   "execution_count": 58,
   "id": "64be1e55",
   "metadata": {},
   "outputs": [
    {
     "data": {
      "text/plain": [
       "0    146.412162\n",
       "1     66.000000\n",
       "2    120.000000\n",
       "3    141.000000\n",
       "4    267.000000\n",
       "Name: LoanAmount, dtype: float64"
      ]
     },
     "execution_count": 58,
     "metadata": {},
     "output_type": "execute_result"
    }
   ],
   "source": [
    "ytrain.head()"
   ]
  },
  {
   "cell_type": "code",
   "execution_count": 60,
   "id": "09fc348d",
   "metadata": {},
   "outputs": [],
   "source": [
    "from sklearn.linear_model import LinearRegression\n",
    "lm = LinearRegression()\n",
    "model = lm.fit(xtrain,ytrain)\n",
    "pred = model.predict(xtest_final)"
   ]
  },
  {
   "cell_type": "code",
   "execution_count": 61,
   "id": "9d7f1c17",
   "metadata": {},
   "outputs": [
    {
     "data": {
      "text/plain": [
       "(65,)"
      ]
     },
     "execution_count": 61,
     "metadata": {},
     "output_type": "execute_result"
    }
   ],
   "source": [
    "pred.shape"
   ]
  },
  {
   "cell_type": "code",
   "execution_count": 62,
   "id": "48887087",
   "metadata": {},
   "outputs": [],
   "source": [
    "act = B[B.Loan_Status == \"N\"][[\"LoanAmount\"]]"
   ]
  },
  {
   "cell_type": "code",
   "execution_count": 64,
   "id": "7fce3d65",
   "metadata": {},
   "outputs": [],
   "source": [
    "act.index = range(0,65)"
   ]
  },
  {
   "cell_type": "code",
   "execution_count": 65,
   "id": "143c2fa5",
   "metadata": {},
   "outputs": [
    {
     "data": {
      "text/plain": [
       "[<matplotlib.lines.Line2D at 0x2c41ddde430>]"
      ]
     },
     "execution_count": 65,
     "metadata": {},
     "output_type": "execute_result"
    },
    {
     "data": {
      "image/png": "[encoded data removed]",
      "text/plain": [
       "<Figure size 432x288 with 1 Axes>"
      ]
     },
     "metadata": {
      "needs_background": "light"
     },
     "output_type": "display_data"
    }
   ],
   "source": [
    "import matplotlib.pyplot as plt\n",
    "plt.plot(act,c=\"blue\")\n",
    "plt.plot(pred,c=\"red\")"
   ]
  },
  {
   "cell_type": "code",
   "execution_count": null,
   "id": "67aeb12a",
   "metadata": {},
   "outputs": [],
   "source": []
  },
  {
   "cell_type": "code",
   "execution_count": null,
   "id": "12c5a8cc",
   "metadata": {},
   "outputs": [],
   "source": []
  },
  {
   "cell_type": "code",
   "execution_count": null,
   "id": "71d2a0fe",
   "metadata": {},
   "outputs": [],
   "source": []
  },
  {
   "cell_type": "markdown",
   "id": "1977bb2f",
   "metadata": {},
   "source": [
    "# 2.b \n",
    "\n",
    "if duration is less than equal to 20 years, is customer eligible for required amount for some longer duration? What is that duration?(Regression)"
   ]
  },
  {
   "cell_type": "code",
   "execution_count": 66,
   "id": "3c476b92",
   "metadata": {},
   "outputs": [],
   "source": [
    "B['Duration']=B.Loan_Amount_Term/12"
   ]
  },
  {
   "cell_type": "code",
   "execution_count": 67,
   "id": "a7daa5d3",
   "metadata": {},
   "outputs": [],
   "source": [
    "data_for_pred = B[(B.Duration<=20)&(B.Loan_Status==\"Y\")]\n",
    "data_for_pred_final = data_for_pred.drop(labels=['Duration','Loan_ID','Loan_Status',\"Loan_Amount_Term\"],axis=1)\n",
    "data_for_pred_final.index = range(0,data_for_pred_final.shape[0])"
   ]
  },
  {
   "cell_type": "code",
   "execution_count": 68,
   "id": "2662f223",
   "metadata": {},
   "outputs": [
    {
     "data": {
      "text/html": [
       "<div>\n",
       "<style scoped>\n",
       "    .dataframe tbody tr th:only-of-type {\n",
       "        vertical-align: middle;\n",
       "    }\n",
       "\n",
       "    .dataframe tbody tr th {\n",
       "        vertical-align: top;\n",
       "    }\n",
       "\n",
       "    .dataframe thead th {\n",
       "        text-align: right;\n",
       "    }\n",
       "</style>\n",
       "<table border=\"1\" class=\"dataframe\">\n",
       "  <thead>\n",
       "    <tr style=\"text-align: right;\">\n",
       "      <th></th>\n",
       "      <th>Gender</th>\n",
       "      <th>Married</th>\n",
       "      <th>Dependents</th>\n",
       "      <th>Education</th>\n",
       "      <th>Self_Employed</th>\n",
       "      <th>ApplicantIncome</th>\n",
       "      <th>CoapplicantIncome</th>\n",
       "      <th>LoanAmount</th>\n",
       "      <th>Credit_History</th>\n",
       "      <th>Property_Area</th>\n",
       "    </tr>\n",
       "  </thead>\n",
       "  <tbody>\n",
       "    <tr>\n",
       "      <th>0</th>\n",
       "      <td>Male</td>\n",
       "      <td>Yes</td>\n",
       "      <td>2</td>\n",
       "      <td>Graduate</td>\n",
       "      <td>No</td>\n",
       "      <td>13633</td>\n",
       "      <td>0</td>\n",
       "      <td>280.0</td>\n",
       "      <td>1.000000</td>\n",
       "      <td>Urban</td>\n",
       "    </tr>\n",
       "    <tr>\n",
       "      <th>1</th>\n",
       "      <td>Male</td>\n",
       "      <td>No</td>\n",
       "      <td>3+</td>\n",
       "      <td>Graduate</td>\n",
       "      <td>No</td>\n",
       "      <td>4166</td>\n",
       "      <td>0</td>\n",
       "      <td>40.0</td>\n",
       "      <td>0.825444</td>\n",
       "      <td>Urban</td>\n",
       "    </tr>\n",
       "  </tbody>\n",
       "</table>\n",
       "</div>"
      ],
      "text/plain": [
       "  Gender Married Dependents Education Self_Employed  ApplicantIncome  \\\n",
       "0   Male     Yes          2  Graduate            No            13633   \n",
       "1   Male      No         3+  Graduate            No             4166   \n",
       "\n",
       "   CoapplicantIncome  LoanAmount  Credit_History Property_Area  \n",
       "0                  0       280.0        1.000000         Urban  \n",
       "1                  0        40.0        0.825444         Urban  "
      ]
     },
     "execution_count": 68,
     "metadata": {},
     "output_type": "execute_result"
    }
   ],
   "source": [
    "data_for_pred_final.head(2)"
   ]
  },
  {
   "cell_type": "code",
   "execution_count": 69,
   "id": "8a82b251",
   "metadata": {},
   "outputs": [
    {
     "data": {
      "text/html": [
       "<div>\n",
       "<style scoped>\n",
       "    .dataframe tbody tr th:only-of-type {\n",
       "        vertical-align: middle;\n",
       "    }\n",
       "\n",
       "    .dataframe tbody tr th {\n",
       "        vertical-align: top;\n",
       "    }\n",
       "\n",
       "    .dataframe thead th {\n",
       "        text-align: right;\n",
       "    }\n",
       "</style>\n",
       "<table border=\"1\" class=\"dataframe\">\n",
       "  <thead>\n",
       "    <tr style=\"text-align: right;\">\n",
       "      <th></th>\n",
       "      <th>Gender</th>\n",
       "      <th>Married</th>\n",
       "      <th>Dependents</th>\n",
       "      <th>Education</th>\n",
       "      <th>Self_Employed</th>\n",
       "      <th>ApplicantIncome</th>\n",
       "      <th>CoapplicantIncome</th>\n",
       "      <th>LoanAmount</th>\n",
       "      <th>Credit_History</th>\n",
       "      <th>Property_Area</th>\n",
       "    </tr>\n",
       "  </thead>\n",
       "  <tbody>\n",
       "    <tr>\n",
       "      <th>0</th>\n",
       "      <td>Male</td>\n",
       "      <td>Yes</td>\n",
       "      <td>2</td>\n",
       "      <td>Graduate</td>\n",
       "      <td>No</td>\n",
       "      <td>13633</td>\n",
       "      <td>0</td>\n",
       "      <td>280.0</td>\n",
       "      <td>1.000000</td>\n",
       "      <td>Urban</td>\n",
       "    </tr>\n",
       "    <tr>\n",
       "      <th>1</th>\n",
       "      <td>Male</td>\n",
       "      <td>No</td>\n",
       "      <td>3+</td>\n",
       "      <td>Graduate</td>\n",
       "      <td>No</td>\n",
       "      <td>4166</td>\n",
       "      <td>0</td>\n",
       "      <td>40.0</td>\n",
       "      <td>0.825444</td>\n",
       "      <td>Urban</td>\n",
       "    </tr>\n",
       "  </tbody>\n",
       "</table>\n",
       "</div>"
      ],
      "text/plain": [
       "  Gender Married Dependents Education Self_Employed  ApplicantIncome  \\\n",
       "0   Male     Yes          2  Graduate            No            13633   \n",
       "1   Male      No         3+  Graduate            No             4166   \n",
       "\n",
       "   CoapplicantIncome  LoanAmount  Credit_History Property_Area  \n",
       "0                  0       280.0        1.000000         Urban  \n",
       "1                  0        40.0        0.825444         Urban  "
      ]
     },
     "execution_count": 69,
     "metadata": {},
     "output_type": "execute_result"
    }
   ],
   "source": [
    "data_for_pred_final.head(2)"
   ]
  },
  {
   "cell_type": "markdown",
   "id": "61dd4571",
   "metadata": {},
   "source": [
    "#### Prepare Training Data"
   ]
  },
  {
   "cell_type": "code",
   "execution_count": 70,
   "id": "ef087e48",
   "metadata": {},
   "outputs": [],
   "source": [
    "T = A[A.Loan_Status == \"Y\"]\n",
    "T1 = T[data_for_pred_final.columns]\n",
    "T1.index = range(0,T1.shape[0])"
   ]
  },
  {
   "cell_type": "code",
   "execution_count": 71,
   "id": "c46c47e8",
   "metadata": {},
   "outputs": [],
   "source": [
    "xtrain = preprocessing(T1)"
   ]
  },
  {
   "cell_type": "code",
   "execution_count": 72,
   "id": "784c51a9",
   "metadata": {},
   "outputs": [],
   "source": [
    "ytrain = T[[\"Loan_Amount_Term\"]]"
   ]
  },
  {
   "cell_type": "code",
   "execution_count": 73,
   "id": "3d4a217d",
   "metadata": {},
   "outputs": [],
   "source": [
    "ytrain.index = range(0,ytrain.shape[0])"
   ]
  },
  {
   "cell_type": "code",
   "execution_count": 74,
   "id": "caecd9c5",
   "metadata": {},
   "outputs": [],
   "source": [
    "replacer(data_for_pred_final)\n",
    "final_pred = preprocessing(data_for_pred_final)"
   ]
  },
  {
   "cell_type": "code",
   "execution_count": 75,
   "id": "0ae498a5",
   "metadata": {},
   "outputs": [],
   "source": [
    "model = lm.fit(xtrain,ytrain)\n",
    "pred = model.predict(final_pred)"
   ]
  },
  {
   "cell_type": "code",
   "execution_count": 76,
   "id": "ce0904ad",
   "metadata": {},
   "outputs": [],
   "source": [
    "U = B[(B.Duration<=20)&(B.Loan_Status==\"Y\")][[\"Loan_Amount_Term\"]]\n",
    "U.index = range(0,U.shape[0])"
   ]
  },
  {
   "cell_type": "code",
   "execution_count": 77,
   "id": "85c70d9e",
   "metadata": {},
   "outputs": [
    {
     "data": {
      "text/plain": [
       "[<matplotlib.lines.Line2D at 0x2c41deb6100>]"
      ]
     },
     "execution_count": 77,
     "metadata": {},
     "output_type": "execute_result"
    },
    {
     "data": {
      "image/png": "[encoded data removed]",
      "text/plain": [
       "<Figure size 432x288 with 1 Axes>"
      ]
     },
     "metadata": {
      "needs_background": "light"
     },
     "output_type": "display_data"
    }
   ],
   "source": [
    "plt.plot(U/12,c=\"red\")\n",
    "plt.plot(pred/12,c=\"blue\")"
   ]
  },
  {
   "cell_type": "code",
   "execution_count": 78,
   "id": "563af2cf",
   "metadata": {},
   "outputs": [
    {
     "data": {
      "text/plain": [
       "(28, 1)"
      ]
     },
     "execution_count": 78,
     "metadata": {},
     "output_type": "execute_result"
    }
   ],
   "source": [
    "U.shape"
   ]
  },
  {
   "cell_type": "code",
   "execution_count": 79,
   "id": "9a61ba18",
   "metadata": {},
   "outputs": [
    {
     "data": {
      "text/plain": [
       "(28, 1)"
      ]
     },
     "execution_count": 79,
     "metadata": {},
     "output_type": "execute_result"
    }
   ],
   "source": [
    "pred.shape"
   ]
  },
  {
   "cell_type": "code",
   "execution_count": 80,
   "id": "c8940eba",
   "metadata": {},
   "outputs": [
    {
     "data": {
      "text/html": [
       "<div>\n",
       "<style scoped>\n",
       "    .dataframe tbody tr th:only-of-type {\n",
       "        vertical-align: middle;\n",
       "    }\n",
       "\n",
       "    .dataframe tbody tr th {\n",
       "        vertical-align: top;\n",
       "    }\n",
       "\n",
       "    .dataframe thead th {\n",
       "        text-align: right;\n",
       "    }\n",
       "</style>\n",
       "<table border=\"1\" class=\"dataframe\">\n",
       "  <thead>\n",
       "    <tr style=\"text-align: right;\">\n",
       "      <th></th>\n",
       "      <th>Loan_Amount_Term</th>\n",
       "    </tr>\n",
       "  </thead>\n",
       "  <tbody>\n",
       "    <tr>\n",
       "      <th>0</th>\n",
       "      <td>240.0</td>\n",
       "    </tr>\n",
       "    <tr>\n",
       "      <th>1</th>\n",
       "      <td>180.0</td>\n",
       "    </tr>\n",
       "    <tr>\n",
       "      <th>2</th>\n",
       "      <td>180.0</td>\n",
       "    </tr>\n",
       "    <tr>\n",
       "      <th>3</th>\n",
       "      <td>180.0</td>\n",
       "    </tr>\n",
       "    <tr>\n",
       "      <th>4</th>\n",
       "      <td>180.0</td>\n",
       "    </tr>\n",
       "    <tr>\n",
       "      <th>5</th>\n",
       "      <td>180.0</td>\n",
       "    </tr>\n",
       "    <tr>\n",
       "      <th>6</th>\n",
       "      <td>180.0</td>\n",
       "    </tr>\n",
       "    <tr>\n",
       "      <th>7</th>\n",
       "      <td>180.0</td>\n",
       "    </tr>\n",
       "    <tr>\n",
       "      <th>8</th>\n",
       "      <td>60.0</td>\n",
       "    </tr>\n",
       "    <tr>\n",
       "      <th>9</th>\n",
       "      <td>180.0</td>\n",
       "    </tr>\n",
       "    <tr>\n",
       "      <th>10</th>\n",
       "      <td>180.0</td>\n",
       "    </tr>\n",
       "    <tr>\n",
       "      <th>11</th>\n",
       "      <td>180.0</td>\n",
       "    </tr>\n",
       "    <tr>\n",
       "      <th>12</th>\n",
       "      <td>84.0</td>\n",
       "    </tr>\n",
       "    <tr>\n",
       "      <th>13</th>\n",
       "      <td>240.0</td>\n",
       "    </tr>\n",
       "    <tr>\n",
       "      <th>14</th>\n",
       "      <td>12.0</td>\n",
       "    </tr>\n",
       "    <tr>\n",
       "      <th>15</th>\n",
       "      <td>240.0</td>\n",
       "    </tr>\n",
       "    <tr>\n",
       "      <th>16</th>\n",
       "      <td>84.0</td>\n",
       "    </tr>\n",
       "    <tr>\n",
       "      <th>17</th>\n",
       "      <td>36.0</td>\n",
       "    </tr>\n",
       "    <tr>\n",
       "      <th>18</th>\n",
       "      <td>180.0</td>\n",
       "    </tr>\n",
       "    <tr>\n",
       "      <th>19</th>\n",
       "      <td>180.0</td>\n",
       "    </tr>\n",
       "    <tr>\n",
       "      <th>20</th>\n",
       "      <td>180.0</td>\n",
       "    </tr>\n",
       "    <tr>\n",
       "      <th>21</th>\n",
       "      <td>84.0</td>\n",
       "    </tr>\n",
       "    <tr>\n",
       "      <th>22</th>\n",
       "      <td>180.0</td>\n",
       "    </tr>\n",
       "    <tr>\n",
       "      <th>23</th>\n",
       "      <td>120.0</td>\n",
       "    </tr>\n",
       "    <tr>\n",
       "      <th>24</th>\n",
       "      <td>240.0</td>\n",
       "    </tr>\n",
       "    <tr>\n",
       "      <th>25</th>\n",
       "      <td>180.0</td>\n",
       "    </tr>\n",
       "    <tr>\n",
       "      <th>26</th>\n",
       "      <td>180.0</td>\n",
       "    </tr>\n",
       "    <tr>\n",
       "      <th>27</th>\n",
       "      <td>180.0</td>\n",
       "    </tr>\n",
       "  </tbody>\n",
       "</table>\n",
       "</div>"
      ],
      "text/plain": [
       "    Loan_Amount_Term\n",
       "0              240.0\n",
       "1              180.0\n",
       "2              180.0\n",
       "3              180.0\n",
       "4              180.0\n",
       "5              180.0\n",
       "6              180.0\n",
       "7              180.0\n",
       "8               60.0\n",
       "9              180.0\n",
       "10             180.0\n",
       "11             180.0\n",
       "12              84.0\n",
       "13             240.0\n",
       "14              12.0\n",
       "15             240.0\n",
       "16              84.0\n",
       "17              36.0\n",
       "18             180.0\n",
       "19             180.0\n",
       "20             180.0\n",
       "21              84.0\n",
       "22             180.0\n",
       "23             120.0\n",
       "24             240.0\n",
       "25             180.0\n",
       "26             180.0\n",
       "27             180.0"
      ]
     },
     "execution_count": 80,
     "metadata": {},
     "output_type": "execute_result"
    }
   ],
   "source": [
    "U"
   ]
  },
  {
   "cell_type": "code",
   "execution_count": null,
   "id": "97879d37",
   "metadata": {},
   "outputs": [],
   "source": []
  }
 ],
 "metadata": {
  "kernelspec": {
   "display_name": "Python 3 (ipykernel)",
   "language": "python",
   "name": "python3"
  },
  "language_info": {
   "codemirror_mode": {
    "name": "ipython",
    "version": 3
   },
   "file_extension": ".py",
   "mimetype": "text/x-python",
   "name": "python",
   "nbconvert_exporter": "python",
   "pygments_lexer": "ipython3",
   "version": "3.9.7"
  }
 },
 "nbformat": 4,
 "nbformat_minor": 5
}
